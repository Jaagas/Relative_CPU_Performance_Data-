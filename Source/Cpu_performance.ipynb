{
 "cells": [
  {
   "cell_type": "code",
   "execution_count": null,
   "metadata": {},
   "outputs": [],
   "source": []
  },
  {
   "cell_type": "code",
   "execution_count": 1,
   "metadata": {},
   "outputs": [],
   "source": [
    "import numpy as np\n",
    "import pandas as pd\n",
    "import matplotlib.pyplot as plt \n",
    "import seaborn as sns\n",
    "import re\n",
    "\n",
    "import sklearn\n",
    "from sklearn.model_selection import train_test_split, cross_val_score, KFold, GridSearchCV\n",
    "from sklearn.preprocessing import MinMaxScaler, PolynomialFeatures, scale\n",
    "from sklearn.metrics import mean_squared_error, r2_score\n",
    "from sklearn.feature_selection import RFE\n",
    "from sklearn.linear_model import LinearRegression\n",
    "from sklearn.pipeline import make_pipeline\n",
    "\n",
    "import warnings # supress warnings\n",
    "warnings.filterwarnings('ignore')"
   ]
  },
  {
   "cell_type": "code",
   "execution_count": 2,
   "metadata": {},
   "outputs": [
    {
     "data": {
      "text/html": [
       "<div>\n",
       "<style scoped>\n",
       "    .dataframe tbody tr th:only-of-type {\n",
       "        vertical-align: middle;\n",
       "    }\n",
       "\n",
       "    .dataframe tbody tr th {\n",
       "        vertical-align: top;\n",
       "    }\n",
       "\n",
       "    .dataframe thead th {\n",
       "        text-align: right;\n",
       "    }\n",
       "</style>\n",
       "<table border=\"1\" class=\"dataframe\">\n",
       "  <thead>\n",
       "    <tr style=\"text-align: right;\">\n",
       "      <th></th>\n",
       "      <th>adviser</th>\n",
       "      <th>32/60</th>\n",
       "      <th>125</th>\n",
       "      <th>256</th>\n",
       "      <th>6000</th>\n",
       "      <th>256.1</th>\n",
       "      <th>16</th>\n",
       "      <th>128</th>\n",
       "      <th>198</th>\n",
       "      <th>199</th>\n",
       "    </tr>\n",
       "  </thead>\n",
       "  <tbody>\n",
       "    <tr>\n",
       "      <th>0</th>\n",
       "      <td>amdahl</td>\n",
       "      <td>470v/7</td>\n",
       "      <td>29</td>\n",
       "      <td>8000</td>\n",
       "      <td>32000</td>\n",
       "      <td>32</td>\n",
       "      <td>8</td>\n",
       "      <td>32</td>\n",
       "      <td>269</td>\n",
       "      <td>253</td>\n",
       "    </tr>\n",
       "    <tr>\n",
       "      <th>1</th>\n",
       "      <td>amdahl</td>\n",
       "      <td>470v/7a</td>\n",
       "      <td>29</td>\n",
       "      <td>8000</td>\n",
       "      <td>32000</td>\n",
       "      <td>32</td>\n",
       "      <td>8</td>\n",
       "      <td>32</td>\n",
       "      <td>220</td>\n",
       "      <td>253</td>\n",
       "    </tr>\n",
       "    <tr>\n",
       "      <th>2</th>\n",
       "      <td>amdahl</td>\n",
       "      <td>470v/7b</td>\n",
       "      <td>29</td>\n",
       "      <td>8000</td>\n",
       "      <td>32000</td>\n",
       "      <td>32</td>\n",
       "      <td>8</td>\n",
       "      <td>32</td>\n",
       "      <td>172</td>\n",
       "      <td>253</td>\n",
       "    </tr>\n",
       "    <tr>\n",
       "      <th>3</th>\n",
       "      <td>amdahl</td>\n",
       "      <td>470v/7c</td>\n",
       "      <td>29</td>\n",
       "      <td>8000</td>\n",
       "      <td>16000</td>\n",
       "      <td>32</td>\n",
       "      <td>8</td>\n",
       "      <td>16</td>\n",
       "      <td>132</td>\n",
       "      <td>132</td>\n",
       "    </tr>\n",
       "    <tr>\n",
       "      <th>4</th>\n",
       "      <td>amdahl</td>\n",
       "      <td>470v/b</td>\n",
       "      <td>26</td>\n",
       "      <td>8000</td>\n",
       "      <td>32000</td>\n",
       "      <td>64</td>\n",
       "      <td>8</td>\n",
       "      <td>32</td>\n",
       "      <td>318</td>\n",
       "      <td>290</td>\n",
       "    </tr>\n",
       "  </tbody>\n",
       "</table>\n",
       "</div>"
      ],
      "text/plain": [
       "  adviser    32/60  125   256   6000  256.1  16  128  198  199\n",
       "0  amdahl   470v/7   29  8000  32000     32   8   32  269  253\n",
       "1  amdahl  470v/7a   29  8000  32000     32   8   32  220  253\n",
       "2  amdahl  470v/7b   29  8000  32000     32   8   32  172  253\n",
       "3  amdahl  470v/7c   29  8000  16000     32   8   16  132  132\n",
       "4  amdahl   470v/b   26  8000  32000     64   8   32  318  290"
      ]
     },
     "execution_count": 2,
     "metadata": {},
     "output_type": "execute_result"
    }
   ],
   "source": [
    "df = pd.read_csv(\"https://archive.ics.uci.edu/ml/machine-learning-databases/cpu-performance/machine.data\")\n",
    "df.head()\n"
   ]
  },
  {
   "cell_type": "code",
   "execution_count": 3,
   "metadata": {},
   "outputs": [
    {
     "name": "stdout",
     "output_type": "stream",
     "text": [
      "<class 'pandas.core.frame.DataFrame'>\n",
      "RangeIndex: 208 entries, 0 to 207\n",
      "Data columns (total 10 columns):\n",
      " #   Column   Non-Null Count  Dtype \n",
      "---  ------   --------------  ----- \n",
      " 0   adviser  208 non-null    object\n",
      " 1   32/60    208 non-null    object\n",
      " 2   125      208 non-null    int64 \n",
      " 3   256      208 non-null    int64 \n",
      " 4   6000     208 non-null    int64 \n",
      " 5   256.1    208 non-null    int64 \n",
      " 6   16       208 non-null    int64 \n",
      " 7   128      208 non-null    int64 \n",
      " 8   198      208 non-null    int64 \n",
      " 9   199      208 non-null    int64 \n",
      "dtypes: int64(8), object(2)\n",
      "memory usage: 16.4+ KB\n"
     ]
    }
   ],
   "source": [
    "df.info()"
   ]
  },
  {
   "cell_type": "markdown",
   "metadata": {},
   "source": [
    "7. Attribute Information:\n",
    "   1. vendor name: 30 \n",
    "      (adviser, amdahl,apollo, basf, bti, burroughs, c.r.d, cambex, cdc, dec, \n",
    "       dg, formation, four-phase, gould, honeywell, hp, ibm, ipl, magnuson, \n",
    "       microdata, nas, ncr, nixdorf, perkin-elmer, prime, siemens, sperry, \n",
    "       sratus, wang)\n",
    "   2. Model Name: many unique symbols\n",
    "   3. MYCT: machine cycle time in nanoseconds (integer)\n",
    "   4. MMIN: minimum main memory in kilobytes (integer)\n",
    "   5. MMAX: maximum main memory in kilobytes (integer)\n",
    "   6. CACH: cache memory in kilobytes (integer)\n",
    "   7. CHMIN: minimum channels in units (integer)\n",
    "   8. CHMAX: maximum channels in units (integer)\n",
    "   9. PRP: published relative performance (integer)\n",
    "  10. ERP: estimated relative performance from the original article (integer)\n"
   ]
  },
  {
   "cell_type": "code",
   "execution_count": 5,
   "metadata": {},
   "outputs": [
    {
     "name": "stdout",
     "output_type": "stream",
     "text": [
      "    Vendor_Name     Model_Name  MCYT  MMIN   MMAX  CACH  CHMIN  CHMAX  PRP  \\\n",
      "0        amdahl         470v/7    29  8000  32000    32      8     32  269   \n",
      "1        amdahl        470v/7a    29  8000  32000    32      8     32  220   \n",
      "2        amdahl        470v/7b    29  8000  32000    32      8     32  172   \n",
      "3        amdahl        470v/7c    29  8000  16000    32      8     16  132   \n",
      "4        amdahl         470v/b    26  8000  32000    64      8     32  318   \n",
      "..          ...            ...   ...   ...    ...   ...    ...    ...  ...   \n",
      "203      sperry           80/8   124  1000   8000     0      1      8   42   \n",
      "204      sperry  90/80-model-3    98  1000   8000    32      2      8   46   \n",
      "205      sratus             32   125  2000   8000     0      2     14   52   \n",
      "206        wang         vs-100   480   512   8000    32      0      0   67   \n",
      "207        wang          vs-90   480  1000   4000     0      0      0   45   \n",
      "\n",
      "     ERP  \n",
      "0    253  \n",
      "1    253  \n",
      "2    253  \n",
      "3    132  \n",
      "4    290  \n",
      "..   ...  \n",
      "203   37  \n",
      "204   50  \n",
      "205   41  \n",
      "206   47  \n",
      "207   25  \n",
      "\n",
      "[208 rows x 10 columns]\n"
     ]
    }
   ],
   "source": [
    "df1 = df.copy()\n",
    "\n",
    "# column adlarini index edirik\n",
    "df1.columns = df1.iloc[0]\n",
    "# column adlarini deyishirik\n",
    "new_column = ['Vendor_Name','Model_Name','MCYT', 'MMIN', 'MMAX', 'CACH', 'CHMIN', 'CHMAX','PRP','ERP']\n",
    "df1.columns = new_column\n",
    "print(df1)\n"
   ]
  },
  {
   "cell_type": "markdown",
   "metadata": {},
   "source": [
    "ERP sizin targetinizdir. Meqsed ise lr tetbiq edib VIF-i, cooks' distance-i en sonda ise lr vasitesile prediction tapmaqdir."
   ]
  },
  {
   "cell_type": "code",
   "execution_count": 5,
   "metadata": {},
   "outputs": [
    {
     "name": "stdout",
     "output_type": "stream",
     "text": [
      "<class 'pandas.core.frame.DataFrame'>\n",
      "RangeIndex: 208 entries, 0 to 207\n",
      "Data columns (total 10 columns):\n",
      " #   Column       Non-Null Count  Dtype \n",
      "---  ------       --------------  ----- \n",
      " 0   Vendor_Name  208 non-null    object\n",
      " 1   Model_Name   208 non-null    object\n",
      " 2   MCYT         208 non-null    int64 \n",
      " 3   MMIN         208 non-null    int64 \n",
      " 4   MMAX         208 non-null    int64 \n",
      " 5   CACH         208 non-null    int64 \n",
      " 6   CHMIN        208 non-null    int64 \n",
      " 7   CHMAX        208 non-null    int64 \n",
      " 8   PRP          208 non-null    int64 \n",
      " 9   ERP          208 non-null    int64 \n",
      "dtypes: int64(8), object(2)\n",
      "memory usage: 16.4+ KB\n"
     ]
    }
   ],
   "source": [
    "df1.info()\n"
   ]
  },
  {
   "cell_type": "code",
   "execution_count": 6,
   "metadata": {},
   "outputs": [
    {
     "data": {
      "text/html": [
       "<div>\n",
       "<style scoped>\n",
       "    .dataframe tbody tr th:only-of-type {\n",
       "        vertical-align: middle;\n",
       "    }\n",
       "\n",
       "    .dataframe tbody tr th {\n",
       "        vertical-align: top;\n",
       "    }\n",
       "\n",
       "    .dataframe thead th {\n",
       "        text-align: right;\n",
       "    }\n",
       "</style>\n",
       "<table border=\"1\" class=\"dataframe\">\n",
       "  <thead>\n",
       "    <tr style=\"text-align: right;\">\n",
       "      <th></th>\n",
       "      <th>MCYT</th>\n",
       "      <th>MMIN</th>\n",
       "      <th>MMAX</th>\n",
       "      <th>CACH</th>\n",
       "      <th>CHMIN</th>\n",
       "      <th>CHMAX</th>\n",
       "      <th>PRP</th>\n",
       "      <th>ERP</th>\n",
       "    </tr>\n",
       "  </thead>\n",
       "  <tbody>\n",
       "    <tr>\n",
       "      <th>count</th>\n",
       "      <td>208.000000</td>\n",
       "      <td>208.000000</td>\n",
       "      <td>208.000000</td>\n",
       "      <td>208.000000</td>\n",
       "      <td>208.000000</td>\n",
       "      <td>208.000000</td>\n",
       "      <td>208.000000</td>\n",
       "      <td>208.000000</td>\n",
       "    </tr>\n",
       "    <tr>\n",
       "      <th>mean</th>\n",
       "      <td>204.201923</td>\n",
       "      <td>2880.538462</td>\n",
       "      <td>11824.019231</td>\n",
       "      <td>24.096154</td>\n",
       "      <td>4.644231</td>\n",
       "      <td>17.740385</td>\n",
       "      <td>105.177885</td>\n",
       "      <td>98.850962</td>\n",
       "    </tr>\n",
       "    <tr>\n",
       "      <th>std</th>\n",
       "      <td>260.833016</td>\n",
       "      <td>3883.839300</td>\n",
       "      <td>11747.916663</td>\n",
       "      <td>37.417999</td>\n",
       "      <td>6.787198</td>\n",
       "      <td>24.913375</td>\n",
       "      <td>161.090223</td>\n",
       "      <td>154.974961</td>\n",
       "    </tr>\n",
       "    <tr>\n",
       "      <th>min</th>\n",
       "      <td>17.000000</td>\n",
       "      <td>64.000000</td>\n",
       "      <td>64.000000</td>\n",
       "      <td>0.000000</td>\n",
       "      <td>0.000000</td>\n",
       "      <td>0.000000</td>\n",
       "      <td>6.000000</td>\n",
       "      <td>15.000000</td>\n",
       "    </tr>\n",
       "    <tr>\n",
       "      <th>25%</th>\n",
       "      <td>50.000000</td>\n",
       "      <td>768.000000</td>\n",
       "      <td>4000.000000</td>\n",
       "      <td>0.000000</td>\n",
       "      <td>1.000000</td>\n",
       "      <td>5.000000</td>\n",
       "      <td>27.000000</td>\n",
       "      <td>28.000000</td>\n",
       "    </tr>\n",
       "    <tr>\n",
       "      <th>50%</th>\n",
       "      <td>110.000000</td>\n",
       "      <td>2000.000000</td>\n",
       "      <td>8000.000000</td>\n",
       "      <td>8.000000</td>\n",
       "      <td>2.000000</td>\n",
       "      <td>8.000000</td>\n",
       "      <td>49.500000</td>\n",
       "      <td>45.000000</td>\n",
       "    </tr>\n",
       "    <tr>\n",
       "      <th>75%</th>\n",
       "      <td>225.000000</td>\n",
       "      <td>4000.000000</td>\n",
       "      <td>16000.000000</td>\n",
       "      <td>32.000000</td>\n",
       "      <td>6.000000</td>\n",
       "      <td>24.000000</td>\n",
       "      <td>111.500000</td>\n",
       "      <td>99.500000</td>\n",
       "    </tr>\n",
       "    <tr>\n",
       "      <th>max</th>\n",
       "      <td>1500.000000</td>\n",
       "      <td>32000.000000</td>\n",
       "      <td>64000.000000</td>\n",
       "      <td>256.000000</td>\n",
       "      <td>52.000000</td>\n",
       "      <td>176.000000</td>\n",
       "      <td>1150.000000</td>\n",
       "      <td>1238.000000</td>\n",
       "    </tr>\n",
       "  </tbody>\n",
       "</table>\n",
       "</div>"
      ],
      "text/plain": [
       "              MCYT          MMIN          MMAX        CACH       CHMIN  \\\n",
       "count   208.000000    208.000000    208.000000  208.000000  208.000000   \n",
       "mean    204.201923   2880.538462  11824.019231   24.096154    4.644231   \n",
       "std     260.833016   3883.839300  11747.916663   37.417999    6.787198   \n",
       "min      17.000000     64.000000     64.000000    0.000000    0.000000   \n",
       "25%      50.000000    768.000000   4000.000000    0.000000    1.000000   \n",
       "50%     110.000000   2000.000000   8000.000000    8.000000    2.000000   \n",
       "75%     225.000000   4000.000000  16000.000000   32.000000    6.000000   \n",
       "max    1500.000000  32000.000000  64000.000000  256.000000   52.000000   \n",
       "\n",
       "            CHMAX          PRP          ERP  \n",
       "count  208.000000   208.000000   208.000000  \n",
       "mean    17.740385   105.177885    98.850962  \n",
       "std     24.913375   161.090223   154.974961  \n",
       "min      0.000000     6.000000    15.000000  \n",
       "25%      5.000000    27.000000    28.000000  \n",
       "50%      8.000000    49.500000    45.000000  \n",
       "75%     24.000000   111.500000    99.500000  \n",
       "max    176.000000  1150.000000  1238.000000  "
      ]
     },
     "execution_count": 6,
     "metadata": {},
     "output_type": "execute_result"
    }
   ],
   "source": [
    "df1.describe()"
   ]
  },
  {
   "cell_type": "code",
   "execution_count": 7,
   "metadata": {},
   "outputs": [
    {
     "data": {
      "text/html": [
       "<div>\n",
       "<style scoped>\n",
       "    .dataframe tbody tr th:only-of-type {\n",
       "        vertical-align: middle;\n",
       "    }\n",
       "\n",
       "    .dataframe tbody tr th {\n",
       "        vertical-align: top;\n",
       "    }\n",
       "\n",
       "    .dataframe thead th {\n",
       "        text-align: right;\n",
       "    }\n",
       "</style>\n",
       "<table border=\"1\" class=\"dataframe\">\n",
       "  <thead>\n",
       "    <tr style=\"text-align: right;\">\n",
       "      <th></th>\n",
       "      <th>Vendor_Name</th>\n",
       "      <th>Model_Name</th>\n",
       "      <th>MCYT</th>\n",
       "      <th>MMIN</th>\n",
       "      <th>MMAX</th>\n",
       "      <th>CACH</th>\n",
       "      <th>CHMIN</th>\n",
       "      <th>CHMAX</th>\n",
       "      <th>PRP</th>\n",
       "      <th>ERP</th>\n",
       "    </tr>\n",
       "  </thead>\n",
       "  <tbody>\n",
       "    <tr>\n",
       "      <th>0</th>\n",
       "      <td>amdahl</td>\n",
       "      <td>470v/7</td>\n",
       "      <td>0.008092</td>\n",
       "      <td>0.248497</td>\n",
       "      <td>0.499499</td>\n",
       "      <td>0.125</td>\n",
       "      <td>0.153846</td>\n",
       "      <td>0.181818</td>\n",
       "      <td>0.229895</td>\n",
       "      <td>0.194603</td>\n",
       "    </tr>\n",
       "    <tr>\n",
       "      <th>1</th>\n",
       "      <td>amdahl</td>\n",
       "      <td>470v/7a</td>\n",
       "      <td>0.008092</td>\n",
       "      <td>0.248497</td>\n",
       "      <td>0.499499</td>\n",
       "      <td>0.125</td>\n",
       "      <td>0.153846</td>\n",
       "      <td>0.181818</td>\n",
       "      <td>0.187063</td>\n",
       "      <td>0.194603</td>\n",
       "    </tr>\n",
       "    <tr>\n",
       "      <th>2</th>\n",
       "      <td>amdahl</td>\n",
       "      <td>470v/7b</td>\n",
       "      <td>0.008092</td>\n",
       "      <td>0.248497</td>\n",
       "      <td>0.499499</td>\n",
       "      <td>0.125</td>\n",
       "      <td>0.153846</td>\n",
       "      <td>0.181818</td>\n",
       "      <td>0.145105</td>\n",
       "      <td>0.194603</td>\n",
       "    </tr>\n",
       "    <tr>\n",
       "      <th>3</th>\n",
       "      <td>amdahl</td>\n",
       "      <td>470v/7c</td>\n",
       "      <td>0.008092</td>\n",
       "      <td>0.248497</td>\n",
       "      <td>0.249249</td>\n",
       "      <td>0.125</td>\n",
       "      <td>0.153846</td>\n",
       "      <td>0.090909</td>\n",
       "      <td>0.110140</td>\n",
       "      <td>0.095666</td>\n",
       "    </tr>\n",
       "    <tr>\n",
       "      <th>4</th>\n",
       "      <td>amdahl</td>\n",
       "      <td>470v/b</td>\n",
       "      <td>0.006069</td>\n",
       "      <td>0.248497</td>\n",
       "      <td>0.499499</td>\n",
       "      <td>0.250</td>\n",
       "      <td>0.153846</td>\n",
       "      <td>0.181818</td>\n",
       "      <td>0.272727</td>\n",
       "      <td>0.224857</td>\n",
       "    </tr>\n",
       "  </tbody>\n",
       "</table>\n",
       "</div>"
      ],
      "text/plain": [
       "  Vendor_Name Model_Name      MCYT      MMIN      MMAX   CACH     CHMIN  \\\n",
       "0      amdahl     470v/7  0.008092  0.248497  0.499499  0.125  0.153846   \n",
       "1      amdahl    470v/7a  0.008092  0.248497  0.499499  0.125  0.153846   \n",
       "2      amdahl    470v/7b  0.008092  0.248497  0.499499  0.125  0.153846   \n",
       "3      amdahl    470v/7c  0.008092  0.248497  0.249249  0.125  0.153846   \n",
       "4      amdahl     470v/b  0.006069  0.248497  0.499499  0.250  0.153846   \n",
       "\n",
       "      CHMAX       PRP       ERP  \n",
       "0  0.181818  0.229895  0.194603  \n",
       "1  0.181818  0.187063  0.194603  \n",
       "2  0.181818  0.145105  0.194603  \n",
       "3  0.090909  0.110140  0.095666  \n",
       "4  0.181818  0.272727  0.224857  "
      ]
     },
     "execution_count": 7,
     "metadata": {},
     "output_type": "execute_result"
    }
   ],
   "source": [
    "df_columns = df1.columns\n",
    "int_cols = df1.select_dtypes(include='int64').columns ## int columnlar\n",
    "scaler = MinMaxScaler()\n",
    "df1[int_cols] = scaler.fit_transform(df1[int_cols])\n",
    "# MinMaxScaler esasinda yaradilmish datadan cedvel qurulmasi\n",
    "df_columns = df1.columns\n",
    "df1 = pd.DataFrame(df1)\n",
    "df1.columns = df_columns\n",
    "\n",
    "df1.head()"
   ]
  },
  {
   "cell_type": "code",
   "execution_count": 25,
   "metadata": {},
   "outputs": [
    {
     "data": {
      "text/html": [
       "<div>\n",
       "<style scoped>\n",
       "    .dataframe tbody tr th:only-of-type {\n",
       "        vertical-align: middle;\n",
       "    }\n",
       "\n",
       "    .dataframe tbody tr th {\n",
       "        vertical-align: top;\n",
       "    }\n",
       "\n",
       "    .dataframe thead th {\n",
       "        text-align: right;\n",
       "    }\n",
       "</style>\n",
       "<table border=\"1\" class=\"dataframe\">\n",
       "  <thead>\n",
       "    <tr style=\"text-align: right;\">\n",
       "      <th></th>\n",
       "      <th>MCYT</th>\n",
       "      <th>MMIN</th>\n",
       "      <th>MMAX</th>\n",
       "      <th>CACH</th>\n",
       "      <th>CHMIN</th>\n",
       "      <th>CHMAX</th>\n",
       "      <th>PRP</th>\n",
       "      <th>ERP</th>\n",
       "    </tr>\n",
       "  </thead>\n",
       "  <tbody>\n",
       "    <tr>\n",
       "      <th>count</th>\n",
       "      <td>16.000000</td>\n",
       "      <td>16.000000</td>\n",
       "      <td>16.000000</td>\n",
       "      <td>16.000000</td>\n",
       "      <td>16.000000</td>\n",
       "      <td>16.000000</td>\n",
       "      <td>16.000000</td>\n",
       "      <td>16.000000</td>\n",
       "    </tr>\n",
       "    <tr>\n",
       "      <th>mean</th>\n",
       "      <td>0.010705</td>\n",
       "      <td>0.271981</td>\n",
       "      <td>0.491679</td>\n",
       "      <td>0.273438</td>\n",
       "      <td>0.276442</td>\n",
       "      <td>0.188920</td>\n",
       "      <td>0.262620</td>\n",
       "      <td>0.231296</td>\n",
       "    </tr>\n",
       "    <tr>\n",
       "      <th>std</th>\n",
       "      <td>0.005904</td>\n",
       "      <td>0.129105</td>\n",
       "      <td>0.031281</td>\n",
       "      <td>0.164372</td>\n",
       "      <td>0.226986</td>\n",
       "      <td>0.119606</td>\n",
       "      <td>0.090896</td>\n",
       "      <td>0.051678</td>\n",
       "    </tr>\n",
       "    <tr>\n",
       "      <th>min</th>\n",
       "      <td>0.004046</td>\n",
       "      <td>0.060621</td>\n",
       "      <td>0.374374</td>\n",
       "      <td>0.000000</td>\n",
       "      <td>0.076923</td>\n",
       "      <td>0.045455</td>\n",
       "      <td>0.117133</td>\n",
       "      <td>0.167621</td>\n",
       "    </tr>\n",
       "    <tr>\n",
       "      <th>25%</th>\n",
       "      <td>0.006069</td>\n",
       "      <td>0.248497</td>\n",
       "      <td>0.499499</td>\n",
       "      <td>0.171875</td>\n",
       "      <td>0.153846</td>\n",
       "      <td>0.136364</td>\n",
       "      <td>0.205420</td>\n",
       "      <td>0.194603</td>\n",
       "    </tr>\n",
       "    <tr>\n",
       "      <th>50%</th>\n",
       "      <td>0.008092</td>\n",
       "      <td>0.248497</td>\n",
       "      <td>0.499499</td>\n",
       "      <td>0.250000</td>\n",
       "      <td>0.153846</td>\n",
       "      <td>0.181818</td>\n",
       "      <td>0.250000</td>\n",
       "      <td>0.210548</td>\n",
       "    </tr>\n",
       "    <tr>\n",
       "      <th>75%</th>\n",
       "      <td>0.014160</td>\n",
       "      <td>0.248497</td>\n",
       "      <td>0.499499</td>\n",
       "      <td>0.296875</td>\n",
       "      <td>0.307692</td>\n",
       "      <td>0.181818</td>\n",
       "      <td>0.316215</td>\n",
       "      <td>0.274734</td>\n",
       "    </tr>\n",
       "    <tr>\n",
       "      <th>max</th>\n",
       "      <td>0.022252</td>\n",
       "      <td>0.498998</td>\n",
       "      <td>0.499499</td>\n",
       "      <td>0.625000</td>\n",
       "      <td>1.000000</td>\n",
       "      <td>0.590909</td>\n",
       "      <td>0.440559</td>\n",
       "      <td>0.336059</td>\n",
       "    </tr>\n",
       "  </tbody>\n",
       "</table>\n",
       "</div>"
      ],
      "text/plain": [
       "            MCYT       MMIN       MMAX       CACH      CHMIN      CHMAX  \\\n",
       "count  16.000000  16.000000  16.000000  16.000000  16.000000  16.000000   \n",
       "mean    0.010705   0.271981   0.491679   0.273438   0.276442   0.188920   \n",
       "std     0.005904   0.129105   0.031281   0.164372   0.226986   0.119606   \n",
       "min     0.004046   0.060621   0.374374   0.000000   0.076923   0.045455   \n",
       "25%     0.006069   0.248497   0.499499   0.171875   0.153846   0.136364   \n",
       "50%     0.008092   0.248497   0.499499   0.250000   0.153846   0.181818   \n",
       "75%     0.014160   0.248497   0.499499   0.296875   0.307692   0.181818   \n",
       "max     0.022252   0.498998   0.499499   0.625000   1.000000   0.590909   \n",
       "\n",
       "             PRP        ERP  \n",
       "count  16.000000  16.000000  \n",
       "mean    0.262620   0.231296  \n",
       "std     0.090896   0.051678  \n",
       "min     0.117133   0.167621  \n",
       "25%     0.205420   0.194603  \n",
       "50%     0.250000   0.210548  \n",
       "75%     0.316215   0.274734  \n",
       "max     0.440559   0.336059  "
      ]
     },
     "execution_count": 25,
     "metadata": {},
     "output_type": "execute_result"
    }
   ],
   "source": [
    "df1.describe()"
   ]
  },
  {
   "cell_type": "code",
   "execution_count": 8,
   "metadata": {},
   "outputs": [
    {
     "data": {
      "text/html": [
       "<div>\n",
       "<style scoped>\n",
       "    .dataframe tbody tr th:only-of-type {\n",
       "        vertical-align: middle;\n",
       "    }\n",
       "\n",
       "    .dataframe tbody tr th {\n",
       "        vertical-align: top;\n",
       "    }\n",
       "\n",
       "    .dataframe thead th {\n",
       "        text-align: right;\n",
       "    }\n",
       "</style>\n",
       "<table border=\"1\" class=\"dataframe\">\n",
       "  <thead>\n",
       "    <tr style=\"text-align: right;\">\n",
       "      <th></th>\n",
       "      <th>MCYT</th>\n",
       "      <th>MMIN</th>\n",
       "      <th>MMAX</th>\n",
       "      <th>CACH</th>\n",
       "      <th>CHMIN</th>\n",
       "      <th>CHMAX</th>\n",
       "      <th>PRP</th>\n",
       "      <th>ERP</th>\n",
       "    </tr>\n",
       "  </thead>\n",
       "  <tbody>\n",
       "    <tr>\n",
       "      <th>MCYT</th>\n",
       "      <td>1.000000</td>\n",
       "      <td>-0.337071</td>\n",
       "      <td>-0.379592</td>\n",
       "      <td>-0.340414</td>\n",
       "      <td>-0.300734</td>\n",
       "      <td>-0.255629</td>\n",
       "      <td>-0.306571</td>\n",
       "      <td>-0.287806</td>\n",
       "    </tr>\n",
       "    <tr>\n",
       "      <th>MMIN</th>\n",
       "      <td>-0.337071</td>\n",
       "      <td>1.000000</td>\n",
       "      <td>0.757827</td>\n",
       "      <td>0.602788</td>\n",
       "      <td>0.526665</td>\n",
       "      <td>0.293877</td>\n",
       "      <td>0.798310</td>\n",
       "      <td>0.823113</td>\n",
       "    </tr>\n",
       "    <tr>\n",
       "      <th>MMAX</th>\n",
       "      <td>-0.379592</td>\n",
       "      <td>0.757827</td>\n",
       "      <td>1.000000</td>\n",
       "      <td>0.600680</td>\n",
       "      <td>0.568594</td>\n",
       "      <td>0.562388</td>\n",
       "      <td>0.865576</td>\n",
       "      <td>0.904180</td>\n",
       "    </tr>\n",
       "    <tr>\n",
       "      <th>CACH</th>\n",
       "      <td>-0.340414</td>\n",
       "      <td>0.602788</td>\n",
       "      <td>0.600680</td>\n",
       "      <td>1.000000</td>\n",
       "      <td>0.588128</td>\n",
       "      <td>0.423550</td>\n",
       "      <td>0.704642</td>\n",
       "      <td>0.687428</td>\n",
       "    </tr>\n",
       "    <tr>\n",
       "      <th>CHMIN</th>\n",
       "      <td>-0.300734</td>\n",
       "      <td>0.526665</td>\n",
       "      <td>0.568594</td>\n",
       "      <td>0.588128</td>\n",
       "      <td>1.000000</td>\n",
       "      <td>0.541762</td>\n",
       "      <td>0.608841</td>\n",
       "      <td>0.610094</td>\n",
       "    </tr>\n",
       "    <tr>\n",
       "      <th>CHMAX</th>\n",
       "      <td>-0.255629</td>\n",
       "      <td>0.293877</td>\n",
       "      <td>0.562388</td>\n",
       "      <td>0.423550</td>\n",
       "      <td>0.541762</td>\n",
       "      <td>1.000000</td>\n",
       "      <td>0.621309</td>\n",
       "      <td>0.606281</td>\n",
       "    </tr>\n",
       "    <tr>\n",
       "      <th>PRP</th>\n",
       "      <td>-0.306571</td>\n",
       "      <td>0.798310</td>\n",
       "      <td>0.865576</td>\n",
       "      <td>0.704642</td>\n",
       "      <td>0.608841</td>\n",
       "      <td>0.621309</td>\n",
       "      <td>1.000000</td>\n",
       "      <td>0.966423</td>\n",
       "    </tr>\n",
       "    <tr>\n",
       "      <th>ERP</th>\n",
       "      <td>-0.287806</td>\n",
       "      <td>0.823113</td>\n",
       "      <td>0.904180</td>\n",
       "      <td>0.687428</td>\n",
       "      <td>0.610094</td>\n",
       "      <td>0.606281</td>\n",
       "      <td>0.966423</td>\n",
       "      <td>1.000000</td>\n",
       "    </tr>\n",
       "  </tbody>\n",
       "</table>\n",
       "</div>"
      ],
      "text/plain": [
       "           MCYT      MMIN      MMAX      CACH     CHMIN     CHMAX       PRP  \\\n",
       "MCYT   1.000000 -0.337071 -0.379592 -0.340414 -0.300734 -0.255629 -0.306571   \n",
       "MMIN  -0.337071  1.000000  0.757827  0.602788  0.526665  0.293877  0.798310   \n",
       "MMAX  -0.379592  0.757827  1.000000  0.600680  0.568594  0.562388  0.865576   \n",
       "CACH  -0.340414  0.602788  0.600680  1.000000  0.588128  0.423550  0.704642   \n",
       "CHMIN -0.300734  0.526665  0.568594  0.588128  1.000000  0.541762  0.608841   \n",
       "CHMAX -0.255629  0.293877  0.562388  0.423550  0.541762  1.000000  0.621309   \n",
       "PRP   -0.306571  0.798310  0.865576  0.704642  0.608841  0.621309  1.000000   \n",
       "ERP   -0.287806  0.823113  0.904180  0.687428  0.610094  0.606281  0.966423   \n",
       "\n",
       "            ERP  \n",
       "MCYT  -0.287806  \n",
       "MMIN   0.823113  \n",
       "MMAX   0.904180  \n",
       "CACH   0.687428  \n",
       "CHMIN  0.610094  \n",
       "CHMAX  0.606281  \n",
       "PRP    0.966423  \n",
       "ERP    1.000000  "
      ]
     },
     "execution_count": 8,
     "metadata": {},
     "output_type": "execute_result"
    }
   ],
   "source": [
    "df1.corr()"
   ]
  },
  {
   "cell_type": "code",
   "execution_count": 9,
   "metadata": {},
   "outputs": [
    {
     "data": {
      "text/plain": [
       "<AxesSubplot:xlabel='PRP', ylabel='ERP'>"
      ]
     },
     "execution_count": 9,
     "metadata": {},
     "output_type": "execute_result"
    },
    {
     "data": {
      "image/png": "[encoded data removed]",
      "text/plain": [
       "<Figure size 640x480 with 1 Axes>"
      ]
     },
     "metadata": {},
     "output_type": "display_data"
    }
   ],
   "source": [
    "sns.regplot(x=\"PRP\", y=\"ERP\", data=df1, fit_reg=True)"
   ]
  },
  {
   "cell_type": "code",
   "execution_count": 10,
   "metadata": {},
   "outputs": [
    {
     "name": "stdout",
     "output_type": "stream",
     "text": [
      "<class 'pandas.core.frame.DataFrame'>\n",
      "RangeIndex: 208 entries, 0 to 207\n",
      "Data columns (total 10 columns):\n",
      " #   Column       Non-Null Count  Dtype  \n",
      "---  ------       --------------  -----  \n",
      " 0   Vendor_Name  208 non-null    object \n",
      " 1   Model_Name   208 non-null    object \n",
      " 2   MCYT         208 non-null    float64\n",
      " 3   MMIN         208 non-null    float64\n",
      " 4   MMAX         208 non-null    float64\n",
      " 5   CACH         208 non-null    float64\n",
      " 6   CHMIN        208 non-null    float64\n",
      " 7   CHMAX        208 non-null    float64\n",
      " 8   PRP          208 non-null    float64\n",
      " 9   ERP          208 non-null    float64\n",
      "dtypes: float64(8), object(2)\n",
      "memory usage: 16.4+ KB\n"
     ]
    }
   ],
   "source": [
    "df1.info()"
   ]
  },
  {
   "cell_type": "code",
   "execution_count": 11,
   "metadata": {},
   "outputs": [
    {
     "name": "stdout",
     "output_type": "stream",
     "text": [
      "X_train shape: (145, 7)\n",
      "X_test shape: (63, 7)\n",
      "y_train shape: (145,)\n",
      "y_test shape: (63,)\n"
     ]
    }
   ],
   "source": [
    "X = df1.drop(['ERP','Vendor_Name','Model_Name'], axis=1)\n",
    "y = df1['ERP']\n",
    "\n",
    "X_train, X_test, y_train, y_test = train_test_split(X, y, test_size=0.3, random_state=42)\n",
    "\n",
    "print('X_train shape:', X_train.shape)\n",
    "print('X_test shape:', X_test.shape)\n",
    "print('y_train shape:', y_train.shape)\n",
    "print('y_test shape:', y_test.shape)\n"
   ]
  },
  {
   "cell_type": "code",
   "execution_count": 12,
   "metadata": {},
   "outputs": [
    {
     "name": "stdout",
     "output_type": "stream",
     "text": [
      "Mean squared error: 0.0012596420047416798\n",
      "R2 Score: 0.9181646196082184\n"
     ]
    }
   ],
   "source": [
    "lr = LinearRegression()\n",
    "\n",
    "# fit the model to the training data\n",
    "lr.fit(X_train, y_train)\n",
    "\n",
    "# make predictions on the testing data\n",
    "y_pred = lr.predict(X_test)\n",
    "mse = mean_squared_error(y_test, y_pred)\n",
    "r2 = r2_score(y_test,y_pred)\n",
    "\n",
    "print('Mean squared error:', mse)\n",
    "print('R2 Score:', r2)"
   ]
  },
  {
   "attachments": {},
   "cell_type": "markdown",
   "metadata": {},
   "source": [
    "Xətti reqressiya kontekstində \"cosntant\" termini reqressiya tənliyindəki ara termini ifadə edir. Reqressiya tənliyi bu formulaya malikdir:\n",
    "\n",
    "y = b0 + b1x1 + b2x2 + ... + bn*xn\n",
    "\n",
    "burada y-asılı dəyişən, x1, x2,..., xn müstəqil dəyişənlərdir, b0 ara müddətdir('intercept term') və b1, b2,..., BN-müstəqil dəyişənlərin əmsallarıdir.\n",
    "\n",
    "Ara müddəti və ya sabit('constant'), bütün müstəqil dəyişənlərin sıfır olduğu y dəyəridir. Başqa sözlə, müstəqil dəyişənlərin təsiri olmadıqda y dəyərini təmsil edir. Sabit vacibdir, çünki reqressiya xəttinin məlumatlara uyğun olaraq \"yuxarıya doğru sürüşməsinə\" və ya \"aşağıya doğru sürüşməsinə\" imkan verir. Daimi bir üzv sabit, reqressiya xətti həmişə mənşəyindən keçəcəkdir ki, bu da bir çox real dünya məlumat dəstləri üçün uyğun olmaya bilər.\n",
    "\n",
    "Scikit-learn və ya statsmodels kimi bir paketdən istifadə edərək xətti reqressiya modelini uyğunlaşdırarkən, ümumiyyətlə modelə daimi bir üzv daxil etmək və ya istisna etmək seçiminiz var. Məsələn, scikit-learn-da, başqa cür göstərməsəniz, sabit müddət standart olaraq aktivdir. Statsmodels-də, modelə daxil edilməsini istəyirsinizsə, add_constant metodundan istifadə edərək daimi bir sabit əlavə etməlisiniz."
   ]
  },
  {
   "cell_type": "code",
   "execution_count": 13,
   "metadata": {},
   "outputs": [
    {
     "name": "stdout",
     "output_type": "stream",
     "text": [
      "   VIF Factor features\n",
      "0    5.333239    const\n",
      "1    1.309560     MCYT\n",
      "2    4.747371     MMIN\n",
      "3    4.668555     MMAX\n",
      "4    2.827582     CACH\n",
      "5    2.235651    CHMIN\n",
      "6    2.045256    CHMAX\n",
      "7    9.071103      PRP\n"
     ]
    }
   ],
   "source": [
    "import statsmodels.api as sm\n",
    "from statsmodels.stats.outliers_influence import variance_inflation_factor\n",
    "\n",
    "# add a constant term to the feature matrix\n",
    "X_train = sm.add_constant(X_train)\n",
    "\n",
    "# calculate VIF for each feature\n",
    "vif = pd.DataFrame()\n",
    "vif[\"VIF Factor\"] = [variance_inflation_factor(X_train.values, i) for i in range(X_train.shape[1])]\n",
    "vif[\"features\"] = X_train.columns\n",
    "# print the VIFs\n",
    "print(vif)\n"
   ]
  },
  {
   "attachments": {},
   "cell_type": "markdown",
   "metadata": {},
   "source": [
    "Bizim neticelerde vif dəyərləri hər proqnozlaşdırıcı dəyişəndə çoxölçülüyün dərəcəsini göstərir. Const işarəsi proqnozlaşdırıcı dəyişən deyil, xətti reqressiya modelindəki ara müddətdir(\"cosntant\"). Əsas qayda budur ki, 5-dən çox olan VIF dəyəri yüksək çoxölçülüyü göstərir, 10-dan çox olan VIF dəyəri isə çox yüksək hesab olunur.\n",
    "\n",
    "VIF nəticələrinizə baxdıqda, MCYT, MMIN və MMAX-ın vıf dəyərləri 4-dən çox olduğu görünür və bu dəyişənlərin modeldəki bir və ya daha çox digər proqnozlaşdırıcı dəyişənlərlə çox əlaqəli olduğunu göstərir. Bunun əksinə olaraq, CACH, CHMİN və CHMAX digər proqnozlaşdırıcılarla orta dərəcədə korrelyasiya səviyyəsinə malikdir, PRP isə çoxölçülükdən təsirlənə biləcəyini göstərən çox yüksək vıf dəyərinə malikdir."
   ]
  },
  {
   "cell_type": "code",
   "execution_count": 14,
   "metadata": {},
   "outputs": [
    {
     "name": "stdout",
     "output_type": "stream",
     "text": [
      "X_train shape: (145, 5)\n",
      "X_test shape: (63, 5)\n",
      "y_train shape: (145,)\n",
      "y_test shape: (63,)\n"
     ]
    }
   ],
   "source": [
    "X = df1.drop(['ERP','Vendor_Name','Model_Name','MMAX','PRP'], axis=1)\n",
    "y = df1['ERP']\n",
    "\n",
    "X_train, X_test, y_train, y_test = train_test_split(X, y, test_size=0.3, random_state=42)\n",
    "\n",
    "print('X_train shape:', X_train.shape)\n",
    "print('X_test shape:', X_test.shape)\n",
    "print('y_train shape:', y_train.shape)\n",
    "print('y_test shape:', y_test.shape)\n"
   ]
  },
  {
   "attachments": {},
   "cell_type": "markdown",
   "metadata": {},
   "source": [
    "VIF nəticələrinizə baxdıqda, MMIN və MMAX-ın vıf dəyərlərinin multicolinear olduğu görünür[4.747371     MMIN, 4.668555     MMA ] . Buna gorede yeni modelde sadece [MMIN] daxil edirik eyni zamanda PRP vif deyeri cox olduqundan ondan istifade etmirik"
   ]
  },
  {
   "cell_type": "code",
   "execution_count": 15,
   "metadata": {},
   "outputs": [
    {
     "name": "stdout",
     "output_type": "stream",
     "text": [
      "Mean squared error: 0.0030586656010601343\n",
      "R2 Score: 0.8012871418928705\n"
     ]
    }
   ],
   "source": [
    "lr = LinearRegression()\n",
    "\n",
    "# fit the model to the training data\n",
    "lr.fit(X_train, y_train)\n",
    "\n",
    "# make predictions on the testing data\n",
    "y_pred = lr.predict(X_test)\n",
    "mse = mean_squared_error(y_test, y_pred)\n",
    "r2 = r2_score(y_test,y_pred)\n",
    "\n",
    "print('Mean squared error:', mse)\n",
    "print('R2 Score:', r2)"
   ]
  },
  {
   "cell_type": "code",
   "execution_count": 16,
   "metadata": {},
   "outputs": [
    {
     "name": "stdout",
     "output_type": "stream",
     "text": [
      "Original outliers: [  7   8  18  81  89  90  94  95 136 155 196 197 198]\n"
     ]
    }
   ],
   "source": [
    "import statsmodels.api as sm\n",
    "\n",
    "X = df1[['MCYT', 'MMIN', 'MMAX', 'CACH', 'CHMIN', 'CHMAX']]\n",
    "y = df1['ERP']\n",
    "X = sm.add_constant(X)\n",
    "model = sm.OLS(y, X).fit()\n",
    "\n",
    "influence = model.get_influence()\n",
    "(c, _) = influence.cooks_distance\n",
    "threshold = 4 / (len(df1)-5-1)\n",
    "\n",
    "# tesir eden observationlar\n",
    "org_outliers = np.where(c > threshold)[0]\n",
    "print(\"Original outliers:\", org_outliers)\n"
   ]
  },
  {
   "attachments": {},
   "cell_type": "markdown",
   "metadata": {},
   "source": [
    "məsafə üçün 4/(n-p-1), reqressiya analizində təsirli nöqtələri təyin etmək üçün istifadə olunur. 4-ə bölünmə, Kukun məsafəsini normallaşdırmaq üçün edilir ki, f-paylanmasına bənzər bir miqyas alsın.\n",
    "\n",
    "Ümumiyyətlə, Kukun məsafəsi, ı-ci müşahidənin heç bir təsiri olmadığı sıfır fərziyyəsi ilə P və n-p-1 sərbəstlik dərəcələri ilə F paylanmasına uyğundur. 4/(n-p-1) dəyəri P və n-p-1 sərbəstlik dərəcələri ilə F paylanmasının 95-ci faizinə uyğundur. Beləliklə, Cook məsafəsi bu həddi aşan müşahidələrin reqressiya analizinə böyük təsir göstərdiyi düşünülür.\n",
    "Cook məsafəsinin 4 - ə bölünməsi, Cook məsafəsinin dəyərlərini F paylanması ilə müqayisə etməyi asanlaşdıran bir konvensiyadır.\n",
    "Cook məsafəsi düsturunda p, reqressiya modelindəki proqnozlaşdırıcıların və ya müstəqil dəyişənlərin sayı, n isə məlumat dəstindəki müşahidələrin və ya məlumat nöqtələrinin sayıdır.\n",
    "\n",
    "Başqa sözlə, p dizayn matrisindəki sütunların sayını təmsil edir X (Cosntant istisna olmaqla), n isə məlumat dəstindəki sətirlərin və ya müşahidələrin sayını təmsil edir."
   ]
  },
  {
   "cell_type": "code",
   "execution_count": null,
   "metadata": {},
   "outputs": [],
   "source": []
  },
  {
   "cell_type": "code",
   "execution_count": 17,
   "metadata": {},
   "outputs": [],
   "source": [
    "def outlier_detection(df1, col, outliers):\n",
    "    fqr = df1[col].quantile(0.25)\n",
    "    tqr = df1[col].quantile(0.75)\n",
    "    iqr = tqr-fqr\n",
    "    df = df1[(df1[col]<(fqr-1.5*iqr))|(df1[col]>(tqr+1.5*iqr))]\n",
    "    # Treat all outliers except those in cooks distance\n",
    "    df = df[~df.index.isin(outliers)]\n",
    "    return df[col]"
   ]
  },
  {
   "cell_type": "code",
   "execution_count": 18,
   "metadata": {},
   "outputs": [
    {
     "data": {
      "text/plain": [
       "0      0.194603\n",
       "1      0.194603\n",
       "2      0.194603\n",
       "4      0.224857\n",
       "5      0.299264\n",
       "6      0.299264\n",
       "96     0.167621\n",
       "150    0.205233\n",
       "151    0.208504\n",
       "152    0.336059\n",
       "154    0.206051\n",
       "167    0.217498\n",
       "190    0.212592\n",
       "191    0.300082\n",
       "194    0.173344\n",
       "195    0.266558\n",
       "Name: ERP, dtype: float64"
      ]
     },
     "execution_count": 18,
     "metadata": {},
     "output_type": "execute_result"
    }
   ],
   "source": [
    "outlier_detection(df1,'ERP',org_outliers)"
   ]
  },
  {
   "cell_type": "code",
   "execution_count": 19,
   "metadata": {},
   "outputs": [
    {
     "data": {
      "text/plain": [
       "192"
      ]
     },
     "execution_count": 19,
     "metadata": {},
     "output_type": "execute_result"
    }
   ],
   "source": [
    "df1['ERP'] = outlier_detection(df1,'ERP',org_outliers)\n",
    "df1['ERP'].isnull().sum()"
   ]
  },
  {
   "cell_type": "code",
   "execution_count": 20,
   "metadata": {},
   "outputs": [
    {
     "data": {
      "text/plain": [
       "0"
      ]
     },
     "execution_count": 20,
     "metadata": {},
     "output_type": "execute_result"
    }
   ],
   "source": [
    "df1.dropna(subset=['ERP'], inplace=True)\n",
    "df1['ERP'].isnull().sum()"
   ]
  },
  {
   "cell_type": "markdown",
   "metadata": {},
   "source": [
    "Son defe yekun modeli qururuq bu halda ERP deyerlerimiz daha deqiqdir"
   ]
  },
  {
   "cell_type": "code",
   "execution_count": 21,
   "metadata": {},
   "outputs": [
    {
     "name": "stdout",
     "output_type": "stream",
     "text": [
      "X_train shape: (11, 5)\n",
      "X_test shape: (5, 5)\n",
      "y_train shape: (11,)\n",
      "y_test shape: (5,)\n"
     ]
    }
   ],
   "source": [
    "X = df1.drop(['ERP','Vendor_Name','Model_Name','MMAX','PRP'], axis=1)\n",
    "y = df1['ERP']\n",
    "\n",
    "X_train, X_test, y_train, y_test = train_test_split(X, y, test_size=0.3, random_state=42)\n",
    "\n",
    "print('X_train shape:', X_train.shape)\n",
    "print('X_test shape:', X_test.shape)\n",
    "print('y_train shape:', y_train.shape)\n",
    "print('y_test shape:', y_test.shape)\n"
   ]
  },
  {
   "cell_type": "code",
   "execution_count": 22,
   "metadata": {},
   "outputs": [
    {
     "name": "stdout",
     "output_type": "stream",
     "text": [
      "Mean squared error: 0.00040446463704187747\n",
      "R2 Score: 0.8686493679440503\n"
     ]
    }
   ],
   "source": [
    "lr = LinearRegression()\n",
    "\n",
    "# fit the model to the training data\n",
    "lr.fit(X_train, y_train)\n",
    "\n",
    "# make predictions on the testing data\n",
    "y_pred = lr.predict(X_test)\n",
    "mse = mean_squared_error(y_test, y_pred)\n",
    "r2 = r2_score(y_test,y_pred)\n",
    "\n",
    "print('Mean squared error:', mse)\n",
    "print('R2 Score:', r2)"
   ]
  },
  {
   "cell_type": "code",
   "execution_count": null,
   "metadata": {},
   "outputs": [],
   "source": []
  }
 ],
 "metadata": {
  "kernelspec": {
   "display_name": "base",
   "language": "python",
   "name": "python3"
  },
  "language_info": {
   "codemirror_mode": {
    "name": "ipython",
    "version": 3
   },
   "file_extension": ".py",
   "mimetype": "text/x-python",
   "name": "python",
   "nbconvert_exporter": "python",
   "pygments_lexer": "ipython3",
   "version": "3.9.13"
  },
  "orig_nbformat": 4
 },
 "nbformat": 4,
 "nbformat_minor": 2
}
